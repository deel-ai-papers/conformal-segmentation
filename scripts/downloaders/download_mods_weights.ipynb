{
 "cells": [
  {
   "cell_type": "markdown",
   "metadata": {},
   "source": [
    "## How to download models (.py) and weights (.pth) from OpenMMLab, makers of mmsegmentation\n",
    "\n",
    "\n",
    "**Prerequisite**: follow the instructions in the [`README.md`](../../README.md) to add your dataset paths to a file named [`.env`](../../.env).\n",
    "\n",
    "Search for for a model pretrained on your dataset here:\n",
    "- https://platform.openmmlab.com/modelzoo/\n",
    "\n",
    "Find the **identifier** used for this model.\n",
    "- Example: `deeplabv3_r50-d8_4xb4-80k_ade20k-512x512`, for deeplabv3 pretrained on ade20k\n",
    "\n",
    "Use the `mim` package (see `requirements`), from OpenMMLab, to download the `.py` model and relative `.pth` weights.\n",
    "\n",
    "If you need models for multiple dataset, repeat this procedure!"
   ]
  },
  {
   "cell_type": "markdown",
   "metadata": {},
   "source": [
    "### Normalize your downloaded data according to MMSeg schemas:\n",
    "\n",
    "Some instructions:\n",
    "- https://mmsegmentation.readthedocs.io/en/latest/user_guides/2_dataset_prepare.html\n",
    "\n",
    "For some datasets, you must manually download and run the \"data converters\" scripts:\n",
    "- https://github.com/open-mmlab/mmsegmentation/tree/main/tools/dataset_converters\n",
    "\n",
    "You must look for these files in their website:\n",
    "- `cityscapes.py`\n",
    "- `loveda.py`\n",
    "\n",
    "#### From the `cose` repository\n",
    "After downloading the files, run them as follows:\n",
    "\n",
    "- `$ cd cose/`: change dir to this repo.\n",
    "- `$ source .venv/bin/activate`: activate environment (we need `mmseg` lib)\n",
    "- `(.venv) $ python /path/to/cose/scripts/dataset_converters/scripts/loveda.py /path/to/zip/data -o /path/to/formatted/data`\n",
    "\n",
    "The path `/path/to/zip/data` is where you downloaded the raw data files to. \n"
   ]
  },
  {
   "cell_type": "markdown",
   "metadata": {},
   "source": [
    "## 2. Download weights"
   ]
  },
  {
   "cell_type": "code",
   "execution_count": null,
   "metadata": {},
   "outputs": [],
   "source": [
    "from cose.utils import load_project_paths\n",
    "\n",
    "# my_dataset = \"ADE20K\"\n",
    "# my_dataset = \"Cityscapes\"\n",
    "my_dataset = \"LoveDA\"\n",
    "\n",
    "if my_dataset == \"ADE20K\":\n",
    "    segmentor_model_names = [\n",
    "        \"deeplabv3_r50-d8_4xb4-80k_ade20k-512x512\",\n",
    "        \"segformer_mit-b5_8xb2-160k_ade20k-512x512\",\n",
    "    ]\n",
    "elif my_dataset == \"Cityscapes\":\n",
    "    segmentor_model_names = [\n",
    "        \"pspnet_r50-d8_4xb2-40k_cityscapes-512x1024\",\n",
    "    ]\n",
    "elif my_dataset == \"LoveDA\":\n",
    "    segmentor_model_names = [\n",
    "        \"pspnet_r50-d8_4xb4-80k_loveda-512x512\",\n",
    "    ]\n",
    "\n",
    "\n",
    "_paths = load_project_paths(dataset_name=my_dataset)\n",
    "# return: COSE_PATH, RAW_DATA_PATH, DATA_CONFIG_PATH, CONFIG_PATH, MODEL_CONFIG_PATH\n",
    "\n",
    "COSE_PATH = _paths.COSE_PATH\n",
    "MODEL_CONFIG_PATH = _paths.MODEL_CONFIG_PATH\n",
    "print(MODEL_CONFIG_PATH)"
   ]
  },
  {
   "cell_type": "code",
   "execution_count": null,
   "metadata": {},
   "outputs": [],
   "source": [
    "from mim import download\n",
    "\n",
    "model_checkpoints = download(\n",
    "    package=\"mmsegmentation\",\n",
    "    configs=segmentor_model_names,\n",
    "    dest_root=MODEL_CONFIG_PATH,\n",
    "    check_certificate=False,\n",
    ")\n",
    "\n",
    "if len(segmentor_model_names) == 1:\n",
    "    model_checkpoints = [model_checkpoints]\n",
    "\n",
    "print(f\" --- Model checkpoints: {model_checkpoints}\")"
   ]
  },
  {
   "cell_type": "markdown",
   "metadata": {},
   "source": [
    "### WARNING: if auto-download with `mim` does not work. \n",
    "\n",
    "To download manually do as follows:\n",
    "1. Find your architecture here: https://github.com/open-mmlab/mmsegmentation/tree/main/configs \n",
    "    - Example: deeplabv3\n",
    "2. verify in the README that this models was pretrained on your dataset: https://github.com/open-mmlab/mmsegmentation/tree/main/configs/deeplabv3\n",
    "    - Example: ADE20K\n",
    "3. Look in the list, find the table of the training data you need (e.g. ADE20K)\n",
    "and then manually or `wget` them by copying the links (right click, etc.)"
   ]
  }
 ],
 "metadata": {
  "kernelspec": {
   "display_name": ".venv",
   "language": "python",
   "name": "python3"
  },
  "language_info": {
   "codemirror_mode": {
    "name": "ipython",
    "version": 3
   },
   "file_extension": ".py",
   "mimetype": "text/x-python",
   "name": "python",
   "nbconvert_exporter": "python",
   "pygments_lexer": "ipython3",
   "version": "3.9.17"
  }
 },
 "nbformat": 4,
 "nbformat_minor": 2
}
