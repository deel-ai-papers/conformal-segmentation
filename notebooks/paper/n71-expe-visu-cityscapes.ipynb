{
 "cells": [
  {
   "cell_type": "markdown",
   "metadata": {},
   "source": [
    "# Visualization: CRC\n",
    "\n",
    "Losses:\n",
    "- binary w/ threshold\n",
    "- Miscoverage\n",
    " "
   ]
  },
  {
   "cell_type": "code",
   "execution_count": null,
   "metadata": {},
   "outputs": [],
   "source": [
    "import matplotlib.pyplot as plt\n",
    "import torch\n",
    "import json\n",
    "\n",
    "from cose.utils import load_project_paths\n",
    "from app.tools import setup_mmseg_inference\n",
    "from cose.conformal import split_dataset_idxs\n",
    "from mmengine.registry import init_default_scope  # type: ignore\n",
    "\n",
    "init_default_scope(\"mmseg\")\n",
    "\n",
    "\n",
    "device_str = \"cuda:0\"\n",
    "device = torch.device(device_str)\n",
    "\n",
    "prj_path = load_project_paths().COSE_PATH\n",
    "\n",
    "# dataset: Literal[\"Cityscapes\", \"ADE20K\", \"LoveDA\"]\n",
    "dataset_name = \"Cityscapes\"\n",
    "\n",
    "# loss: Literal[\"binary\", \"miscoverage\"]\n",
    "# loss = \"miscoverage\"\n",
    "loss = \"binary\"\n",
    "\n",
    "\n",
    "if dataset_name == \"Cityscapes\" and loss == \"binary\":\n",
    "    ## mincov: 0.99, alpha=0.01\n",
    "    config_json = f\"{prj_path}/experiments/outputs/Cityscapes/binary_loss/20240315_14h13m06s_Cityscapes__id_101__alpha_0.01__binary_loss.json\"\n",
    "\n",
    "\n",
    "elif dataset_name == \"Cityscapes\" and loss == \"miscoverage\":\n",
    "    config_json = f\"{prj_path}/experiments/outputs/Cityscapes/miscoverage_loss/20240302_21h57m00s_Cityscapes__id_101__alpha_0.01__miscoverage_loss.json\"\n",
    "else:\n",
    "    raise ValueError(\"Unknown config: could not json file\")\n",
    "\n",
    "my_config = json.load(open(config_json))\n",
    "n_calib = my_config[\"n_calib\"]\n",
    "print(f\"{my_config['mincov'] = }\")\n",
    "print(my_config.keys())\n",
    "print(f\"{my_config['experiment_id'] = }\")\n",
    "\n",
    "dataset, model, input_paths = setup_mmseg_inference(\n",
    "    device, dataset_name, my_config[\"experiment_id\"], n_calib=n_calib\n",
    ")\n",
    "#\n",
    "_cal_ids, test_ids = split_dataset_idxs(\n",
    "    len_dataset=len(dataset),\n",
    "    n_calib=my_config[\"n_calib\"],\n",
    "    random_seed=my_config[\"experiment_id\"],\n",
    ")"
   ]
  },
  {
   "cell_type": "code",
   "execution_count": null,
   "metadata": {},
   "outputs": [],
   "source": [
    "## Find an image with interesting elements for paper's figures\n",
    "import mmcv\n",
    "\n",
    "image_id_ = None\n",
    "\n",
    "show_some_images = False\n",
    "if show_some_images:\n",
    "    for _, idx in enumerate(test_ids[:150]):\n",
    "        plt.figure(figsize=(3, 3))\n",
    "        img_path = dataset[idx][\"data_samples\"].img_path\n",
    "        im_path = dataset[idx][\"data_samples\"].img_path\n",
    "        im = mmcv.imread(im_path)\n",
    "        plt.imshow(mmcv.bgr2rgb(im))\n",
    "        plt.show()"
   ]
  },
  {
   "cell_type": "code",
   "execution_count": null,
   "metadata": {},
   "outputs": [],
   "source": [
    "if dataset_name == \"Cityscapes\":\n",
    "    # image_id_ = 7\n",
    "    # image_id_ = 61\n",
    "    # image_id_ = 68\n",
    "    image_id_ = 85  # pedestrians, signs, bicycles, pigeon on the road\n",
    "    # image_id_ = 128\n",
    "    # image_id_ = 140  ## people carrying suitcases\n",
    "\n",
    "    im_path = dataset[image_id_][\"data_samples\"].img_path\n",
    "    im = mmcv.imread(im_path)\n",
    "    plt.imshow(mmcv.bgr2rgb(im))\n",
    "    plt.show()"
   ]
  },
  {
   "cell_type": "code",
   "execution_count": null,
   "metadata": {},
   "outputs": [],
   "source": [
    "from make_figures import plot_heatmap_from_input_img_path\n",
    "\n",
    "plot_heatmap_from_input_img_path(\n",
    "    input_img_path=im_path,\n",
    "    expe_config=my_config,\n",
    "    normalize_by_total_number_of_classes=True,\n",
    ")"
   ]
  },
  {
   "cell_type": "markdown",
   "metadata": {},
   "source": [
    "## Thresholding: visualize how $\\lambda$ determines the heatmap"
   ]
  },
  {
   "cell_type": "code",
   "execution_count": null,
   "metadata": {},
   "outputs": [],
   "source": [
    "from make_figures import plot_threshold_heatmap_from_input_img_path\n",
    "\n",
    "\n",
    "plot_threshold_heatmap_from_input_img_path(\n",
    "    input_img_path=im_path,\n",
    "    expe_config=my_config,\n",
    "    normalize_by_total_number_of_classes=True,\n",
    "    lbd=[0.99, 0.999, my_config[\"optimal_lambda\"]],\n",
    ")"
   ]
  },
  {
   "cell_type": "markdown",
   "metadata": {},
   "source": [
    "## Compare: bin loss, bin with threshold and miscoverage on same softmax output.\n",
    "\n",
    "- Observe how the heatmap change according to our notion of error and the risk $\\alpha$"
   ]
  },
  {
   "cell_type": "code",
   "execution_count": null,
   "metadata": {},
   "outputs": [],
   "source": [
    "from make_figures import triple_threshold_heatmap_from_input_img_path\n",
    "\n",
    "## For the same alpha, compare three losses: binary (mincov 1.0), bin with threshold, miscoverage\n",
    "visu_loss_comparison = {\n",
    "    \"bin\": f\"{prj_path}/experiments/outputs/Cityscapes/binary_loss/specials/20240324_19h55m10s_Cityscapes__id_101__alpha_0.01__mincov_1.0__binary_loss.json\",\n",
    "    \"threshold\": f\"{prj_path}/experiments/outputs/Cityscapes/binary_loss/20240315_14h13m06s_Cityscapes__id_101__alpha_0.01__binary_loss.json\",\n",
    "    \"miscoverage\": f\"{prj_path}/experiments/outputs/Cityscapes/miscoverage_loss/20240302_21h57m00s_Cityscapes__id_101__alpha_0.01__miscoverage_loss.json\",\n",
    "}\n",
    "\n",
    "thresholds = []\n",
    "\n",
    "for config in visu_loss_comparison:\n",
    "    my_config = json.load(open(visu_loss_comparison[config]))\n",
    "    thresholds.append(my_config[\"optimal_lambda\"])\n",
    "\n",
    "titles = [\n",
    "    \"$\\\\alpha = 0.01$, $\\\\tau = 1.0$, \",\n",
    "    \"$\\\\alpha = 0.01$, $\\\\tau = 0.99$, \",\n",
    "    \"$\\\\alpha = 0.01$, \",\n",
    "]\n",
    "\n",
    "triple_threshold_heatmap_from_input_img_path(\n",
    "    input_img_path=im_path,\n",
    "    expe_config=my_config,\n",
    "    normalize_by_total_number_of_classes=True,\n",
    "    lbd=thresholds,\n",
    "    titles=titles,\n",
    ")"
   ]
  },
  {
   "cell_type": "code",
   "execution_count": null,
   "metadata": {},
   "outputs": [],
   "source": []
  }
 ],
 "metadata": {
  "kernelspec": {
   "display_name": ".venv",
   "language": "python",
   "name": "python3"
  },
  "language_info": {
   "codemirror_mode": {
    "name": "ipython",
    "version": 3
   },
   "file_extension": ".py",
   "mimetype": "text/x-python",
   "name": "python",
   "nbconvert_exporter": "python",
   "pygments_lexer": "ipython3",
   "version": "3.9.17"
  }
 },
 "nbformat": 4,
 "nbformat_minor": 2
}
